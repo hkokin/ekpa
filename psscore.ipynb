{
  "nbformat": 4,
  "nbformat_minor": 0,
  "metadata": {
    "colab": {
      "provenance": [],
      "authorship_tag": "ABX9TyPvmIhlQtm9RUmKUUbv7ERq",
      "include_colab_link": true
    },
    "kernelspec": {
      "name": "python3",
      "display_name": "Python 3"
    },
    "language_info": {
      "name": "python"
    }
  },
  "cells": [
    {
      "cell_type": "markdown",
      "metadata": {
        "id": "view-in-github",
        "colab_type": "text"
      },
      "source": [
        "<a href=\"https://colab.research.google.com/github/hkokin/ekpa/blob/main/psscore.ipynb\" target=\"_parent\"><img src=\"https://colab.research.google.com/assets/colab-badge.svg\" alt=\"Open In Colab\"/></a>"
      ]
    },
    {
      "cell_type": "code",
      "execution_count": null,
      "metadata": {
        "id": "MMVfe7vpWYnZ"
      },
      "outputs": [],
      "source": [
        "#εισαγωγή βιβλιοθηκών - πακέτων\n",
        "!pip install -U ppscore\n",
        "import pandas as pd\n",
        "import numpy as np\n",
        "import ppscore as pps\n",
        "import pandas as pd\n",
        "import numpy as np\n",
        "import seaborn as sns\n",
        "\n",
        "import ppscore as pps\n",
        "df = pd.DataFrame()\n",
        "df[\"x\"] = np.random.uniform(-2, 2, 1_000_000)\n",
        "df[\"error\"] = np.random.uniform(-0.5, 0.5, 1_000_000)\n",
        "df[\"y\"] = df[\"x\"] * df[\"x\"] + df[\"error\"]\n",
        "pps.score(df, \"x\", \"y\")\n",
        "def heatmap(df):\n",
        "    df = df[['x', 'y', 'ppscore']].pivot(columns='x', index='y', values='ppscore')\n",
        "    ax = sns.heatmap(df, vmin=0, vmax=1, cmap=\"Blues\", linewidths=0.5, annot=True)\n",
        "    ax.set_title(\"PPS matrix\")\n",
        "    ax.set_xlabel(\"feature\")\n",
        "    ax.set_ylabel(\"target\")\n",
        "    return ax\n",
        "    df = pd.DataFrame()\n",
        "df[\"x\"] = np.random.uniform(-2, 2, 1_000_000)\n",
        "df[\"error\"] = np.random.uniform(-0.5, 0.5, 1_000_000)\n",
        "df[\"y\"] = df[\"x\"] * df[\"x\"] + df[\"error\"]\n",
        "\n",
        "sns.scatterplot(x=\"x\", y=\"y\", data=df.sample(10_000))\n",
        "sns.scatterplot(x=\"x\", y=\"y\", data=df.sample(10_000))\n",
        "matrix = pps.matrix(df)\n",
        "matrix\n",
        "heatmap(matrix)\n",
        "pps.score(df, \"x\", \"y\")\n",
        ""
      ]
    }
  ]
}